{
 "cells": [
  {
   "cell_type": "markdown",
   "metadata": {},
   "source": [
    "# SAFETAG Build structure analysis\n",
    "\n",
    "![](meta.png)\n"
   ]
  },
  {
   "cell_type": "markdown",
   "metadata": {
    "collapsed": true
   },
   "source": [
    "## Convert transclusion\n",
    "```\n",
    "---\n",
    "title: 'A Security Auditing Framework and Evaluation Template for Advocacy Groups'\n",
    "subtitle: 'Guide'\n",
    "---\n",
    "\n",
    "# SAFETAG Methods\n",
    "\n",
    "!INCLUDE \"methods/intro.md\"\n",
    "\n",
    "\\newpage\n",
    "<!-- Audit Scoping-->\n",
    "\n",
    "!INCLUDE \"methods/context_research.guide.md\"\n",
    "\n",
    "<div class=\"boxtext\">\n",
    "#### Conduct Interviews\n",
    "\n",
    "**NOTE:** Covered in full under Capacity Assessment\n",
    "\n",
    "!INCLUDE \"exercises/interviews/approach.md\"\n",
    "</div>\n",
    "```\n",
    "\n",
    "to the following for use with https://github.com/jamesramsay/hercule\n",
    "\n",
    "```\n",
    "---\n",
    "title: 'A Security Auditing Framework and Evaluation Template for Advocacy Groups'\n",
    "subtitle: 'Guide'\n",
    "---\n",
    "\n",
    "# SAFETAG Methods\n",
    "\n",
    ":[](\"methods/intro.md\")\n",
    "\n",
    "\\newpage\n",
    "<!-- Audit Scoping-->\n",
    "\n",
    ":[](\"methods/context_research.guide.md\")\n",
    "\n",
    "<div class=\"boxtext\">\n",
    "#### Conduct Interviews\n",
    "\n",
    "**NOTE:** Covered in full under Capacity Assessment\n",
    "\n",
    ":[](\"exercises/interviews/approach.md\")\n",
    "</div>\n",
    "\n",
    "```"
   ]
  },
  {
   "cell_type": "code",
   "execution_count": 10,
   "metadata": {},
   "outputs": [],
   "source": [
    "var old = `\n",
    "---\n",
    "title: 'A Security Auditing Framework and Evaluation Template for Advocacy Groups'\n",
    "subtitle: 'Guide'\n",
    "---\n",
    "\n",
    "# SAFETAG Methods\n",
    "\n",
    "!INCLUDE \"methods/intro.md\"\n",
    "\n",
    "\\newpage\n",
    "<!-- Audit Scoping-->\n",
    "\n",
    "!INCLUDE \"methods/context_research.guide.md\"\n",
    "\n",
    "<div class=\"boxtext\">\n",
    "#### Conduct Interviews\n",
    "\n",
    "**NOTE:** Covered in full under Capacity Assessment\n",
    "\n",
    "!INCLUDE \"exercises/interviews/approach.md\"\n",
    "</div>\n",
    "`"
   ]
  },
  {
   "cell_type": "code",
   "execution_count": 18,
   "metadata": {},
   "outputs": [
    {
     "name": "stdout",
     "output_type": "stream",
     "text": [
      "\n",
      "---\n",
      "title: 'A Security Auditing Framework and Evaluation Template for Advocacy Groups'\n",
      "subtitle: 'Guide'\n",
      "---\n",
      "\n",
      "# SAFETAG Methods\n",
      "\n",
      ":[](methods/intro.md)\n",
      "\n",
      "ewpage\n",
      "<!-- Audit Scoping-->\n",
      "\n",
      ":[](methods/context_research.guide.md)\n",
      "<div class=\"boxtext\">\n",
      "#### Conduct Interviews\n",
      "\n",
      "**NOTE:** Covered in full under Capacity Assessment\n",
      "\n",
      ":[](exercises/interviews/approach.md)\n",
      "</div>\n",
      "\n"
     ]
    }
   ],
   "source": [
    "var md = old.replace(/^\\!INCLUDE \\\"(.*)\\\"\\W?$/gm, ':[]($1)');\n",
    "console.log(md)"
   ]
  },
  {
   "cell_type": "code",
   "execution_count": null,
   "metadata": {
    "collapsed": true
   },
   "outputs": [],
   "source": []
  }
 ],
 "metadata": {
  "kernelspec": {
   "display_name": "jp-Babel (Node.js)",
   "language": "babel",
   "name": "babel"
  },
  "language_info": {
   "file_extension": ".js",
   "mimetype": "application/javascript",
   "name": "javascript",
   "version": "6.10.3"
  }
 },
 "nbformat": 4,
 "nbformat_minor": 2
}
